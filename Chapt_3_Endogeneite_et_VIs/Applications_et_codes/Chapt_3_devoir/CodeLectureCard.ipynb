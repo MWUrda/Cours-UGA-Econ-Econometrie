{
 "cells": [
  {
   "cell_type": "code",
   "execution_count": null,
   "metadata": {},
   "outputs": [],
   "source": [
    "# Récupérer données ici: https://drive.google.com/drive/folders/19lpW6qBEC50pxCN9HulUczsgPibCaay3?usp=sharing"
   ]
  },
  {
   "cell_type": "code",
   "execution_count": 14,
   "metadata": {},
   "outputs": [
    {
     "name": "stdout",
     "output_type": "stream",
     "text": [
      "<class 'pandas.core.frame.DataFrame'>\n",
      "Int64Index: 3613 entries, 0 to 3612\n",
      "Data columns (total 52 columns):\n",
      " #   Column    Non-Null Count  Dtype  \n",
      "---  ------    --------------  -----  \n",
      " 0   id        3613 non-null   int16  \n",
      " 1   nearc2    3613 non-null   int8   \n",
      " 2   nearc4    3613 non-null   int8   \n",
      " 3   nearc4a   3613 non-null   int8   \n",
      " 4   nearc4b   3613 non-null   int8   \n",
      " 5   ed76      3613 non-null   int8   \n",
      " 6   ed66      3613 non-null   int8   \n",
      " 7   age76     3613 non-null   int8   \n",
      " 8   daded     3613 non-null   float32\n",
      " 9   nodaded   3613 non-null   int8   \n",
      " 10  momed     3613 non-null   float32\n",
      " 11  nomomed   3613 non-null   int8   \n",
      " 12  weight    3613 non-null   int32  \n",
      " 13  momdad14  3613 non-null   int8   \n",
      " 14  sinmom14  3613 non-null   int8   \n",
      " 15  step14    3613 non-null   int8   \n",
      " 16  reg661    3613 non-null   int8   \n",
      " 17  reg662    3613 non-null   int8   \n",
      " 18  reg663    3613 non-null   int8   \n",
      " 19  reg664    3613 non-null   int8   \n",
      " 20  reg665    3613 non-null   int8   \n",
      " 21  reg666    3613 non-null   int8   \n",
      " 22  reg667    3613 non-null   int8   \n",
      " 23  reg668    3613 non-null   int8   \n",
      " 24  reg669    3613 non-null   int8   \n",
      " 25  south66   3613 non-null   int8   \n",
      " 26  work76    3613 non-null   int8   \n",
      " 27  work78    3613 non-null   int8   \n",
      " 28  lwage76   3010 non-null   float32\n",
      " 29  lwage78   2639 non-null   float32\n",
      " 30  famed     3613 non-null   int8   \n",
      " 31  black     3613 non-null   int8   \n",
      " 32  smsa76r   3613 non-null   int8   \n",
      " 33  smsa78r   3319 non-null   float64\n",
      " 34  reg76r    3613 non-null   int8   \n",
      " 35  reg78r    3319 non-null   float64\n",
      " 36  reg80r    3227 non-null   float64\n",
      " 37  smsa66r   3613 non-null   int8   \n",
      " 38  wage76    3017 non-null   float64\n",
      " 39  wage78    2656 non-null   float64\n",
      " 40  wage80    2520 non-null   float64\n",
      " 41  noint78   3613 non-null   int8   \n",
      " 42  noint80   3613 non-null   int8   \n",
      " 43  enroll76  3613 non-null   int8   \n",
      " 44  enroll78  3317 non-null   float64\n",
      " 45  enroll80  3220 non-null   float64\n",
      " 46  kww       3543 non-null   float64\n",
      " 47  iq        2470 non-null   float64\n",
      " 48  marsta76  3604 non-null   float64\n",
      " 49  marsta78  3319 non-null   float64\n",
      " 50  marsta80  3227 non-null   float64\n",
      " 51  libcrd14  3598 non-null   float64\n",
      "dtypes: float32(4), float64(14), int16(1), int32(1), int8(32)\n",
      "memory usage: 613.9 KB\n"
     ]
    }
   ],
   "source": [
    "# Lecture\n",
    "import pandas as pd\n",
    "Card1995_df = pd.read_stata('/Volumes/GoogleDrive/Mon Drive/Hansen/Econometrics Data/Card1995/Card1995.dta')\n",
    "Card1995_df.info()"
   ]
  },
  {
   "cell_type": "markdown",
   "metadata": {},
   "source": [
    "## Équation à estimer pour le tableau 2."
   ]
  },
  {
   "cell_type": "markdown",
   "metadata": {},
   "source": [
    "On estime l'équation de la colonne 1 du tableau 2:\n",
    "$$ \n",
    "\\begin{align*}\n",
    "lwage76 &=  a_{1, 0} + a_{2, 0} ed76 + a_{3, 0}exper + a_{4, 0}exper^2 + a_{5, 0}black \n",
    "+ a_{6, 0}smsa76r + a_{7, 0}south66 + u\n",
    "\\end{align*}\n",
    "$$"
   ]
  },
  {
   "cell_type": "code",
   "execution_count": 6,
   "metadata": {},
   "outputs": [],
   "source": [
    "import statsmodels.api as sm\n",
    "import numpy as np"
   ]
  },
  {
   "cell_type": "code",
   "execution_count": 17,
   "metadata": {},
   "outputs": [
    {
     "data": {
      "text/plain": [
       "(3017, 52)"
      ]
     },
     "execution_count": 17,
     "metadata": {},
     "output_type": "execute_result"
    }
   ],
   "source": [
    "Card1995_df = Card1995_df.dropna(subset=['wage76', 'ed76', 'black', 'smsa76r', 'south66', 'age76'])\n",
    "Card1995_df.shape"
   ]
  },
  {
   "cell_type": "code",
   "execution_count": 18,
   "metadata": {},
   "outputs": [],
   "source": [
    "Card1995_df['exper'] = Card1995_df['age76'] - 16-6\n",
    "Card1995_df['expersq100'] = (Card1995_df['age76'] - 16-6)**2/100\n",
    "Card1995_df['lwage76'] = np.log(Card1995_df.wage76)"
   ]
  },
  {
   "cell_type": "code",
   "execution_count": 19,
   "metadata": {},
   "outputs": [],
   "source": [
    "X = Card1995_df[['ed76', 'exper', 'expersq100', 'black', 'smsa76r', 'south66']]\n",
    "Y = Card1995_df['lwage76']"
   ]
  },
  {
   "cell_type": "code",
   "execution_count": 24,
   "metadata": {},
   "outputs": [],
   "source": [
    "lreg = sm.OLS(endog = Y, exog = sm.add_constant(X), missing = 'drop')"
   ]
  },
  {
   "cell_type": "code",
   "execution_count": 25,
   "metadata": {},
   "outputs": [
    {
     "name": "stdout",
     "output_type": "stream",
     "text": [
      "                            OLS Regression Results                            \n",
      "==============================================================================\n",
      "Dep. Variable:                lwage76   R-squared:                       0.261\n",
      "Model:                            OLS   Adj. R-squared:                  0.259\n",
      "Method:                 Least Squares   F-statistic:                     177.1\n",
      "Date:                Wed, 27 Apr 2022   Prob (F-statistic):          1.95e-193\n",
      "Time:                        10:58:45   Log-Likelihood:                -1459.0\n",
      "No. Observations:                3017   AIC:                             2932.\n",
      "Df Residuals:                    3010   BIC:                             2974.\n",
      "Df Model:                           6                                         \n",
      "Covariance Type:            nonrobust                                         \n",
      "==============================================================================\n",
      "                 coef    std err          t      P>|t|      [0.025      0.975]\n",
      "------------------------------------------------------------------------------\n",
      "const          5.5139      0.043    127.565      0.000       5.429       5.599\n",
      "ed76           0.0345      0.003     12.147      0.000       0.029       0.040\n",
      "exper          0.0381      0.002     16.364      0.000       0.033       0.043\n",
      "expersq100     0.0453      0.014      3.210      0.001       0.018       0.073\n",
      "black         -0.1883      0.019     -9.833      0.000      -0.226      -0.151\n",
      "smsa76r        0.1761      0.016     10.816      0.000       0.144       0.208\n",
      "south66       -0.1020      0.016     -6.223      0.000      -0.134      -0.070\n",
      "==============================================================================\n",
      "Omnibus:                      374.281   Durbin-Watson:                   1.856\n",
      "Prob(Omnibus):                  0.000   Jarque-Bera (JB):             1115.066\n",
      "Skew:                          -0.650   Prob(JB):                    7.36e-243\n",
      "Kurtosis:                       5.680   Cond. No.                         91.4\n",
      "==============================================================================\n",
      "\n",
      "Notes:\n",
      "[1] Standard Errors assume that the covariance matrix of the errors is correctly specified.\n"
     ]
    }
   ],
   "source": [
    "results = lreg.fit()\n",
    "print(results.summary())"
   ]
  }
 ],
 "metadata": {
  "interpreter": {
   "hash": "8a894924a8054982a5c897c02f36d019274ceaf42c853aa8fb1f2ffcb169480b"
  },
  "kernelspec": {
   "display_name": "Python 3.8.8 ('base')",
   "language": "python",
   "name": "python3"
  },
  "language_info": {
   "codemirror_mode": {
    "name": "ipython",
    "version": 3
   },
   "file_extension": ".py",
   "mimetype": "text/x-python",
   "name": "python",
   "nbconvert_exporter": "python",
   "pygments_lexer": "ipython3",
   "version": "3.8.8"
  },
  "orig_nbformat": 4
 },
 "nbformat": 4,
 "nbformat_minor": 2
}
