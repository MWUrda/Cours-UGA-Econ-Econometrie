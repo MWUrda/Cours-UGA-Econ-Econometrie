{
 "cells": [
  {
   "cell_type": "code",
   "execution_count": null,
   "metadata": {},
   "outputs": [],
   "source": [
    "# Récupérer données ici: https://drive.google.com/drive/folders/19lpW6qBEC50pxCN9HulUczsgPibCaay3?usp=sharing"
   ]
  },
  {
   "cell_type": "code",
   "execution_count": 2,
   "metadata": {},
   "outputs": [
    {
     "name": "stdout",
     "output_type": "stream",
     "text": [
      "<class 'pandas.core.frame.DataFrame'>\n",
      "Int64Index: 3613 entries, 0 to 3612\n",
      "Data columns (total 52 columns):\n",
      " #   Column    Non-Null Count  Dtype  \n",
      "---  ------    --------------  -----  \n",
      " 0   id        3613 non-null   int16  \n",
      " 1   nearc2    3613 non-null   int8   \n",
      " 2   nearc4    3613 non-null   int8   \n",
      " 3   nearc4a   3613 non-null   int8   \n",
      " 4   nearc4b   3613 non-null   int8   \n",
      " 5   ed76      3613 non-null   int8   \n",
      " 6   ed66      3613 non-null   int8   \n",
      " 7   age76     3613 non-null   int8   \n",
      " 8   daded     3613 non-null   float32\n",
      " 9   nodaded   3613 non-null   int8   \n",
      " 10  momed     3613 non-null   float32\n",
      " 11  nomomed   3613 non-null   int8   \n",
      " 12  weight    3613 non-null   int32  \n",
      " 13  momdad14  3613 non-null   int8   \n",
      " 14  sinmom14  3613 non-null   int8   \n",
      " 15  step14    3613 non-null   int8   \n",
      " 16  reg661    3613 non-null   int8   \n",
      " 17  reg662    3613 non-null   int8   \n",
      " 18  reg663    3613 non-null   int8   \n",
      " 19  reg664    3613 non-null   int8   \n",
      " 20  reg665    3613 non-null   int8   \n",
      " 21  reg666    3613 non-null   int8   \n",
      " 22  reg667    3613 non-null   int8   \n",
      " 23  reg668    3613 non-null   int8   \n",
      " 24  reg669    3613 non-null   int8   \n",
      " 25  south66   3613 non-null   int8   \n",
      " 26  work76    3613 non-null   int8   \n",
      " 27  work78    3613 non-null   int8   \n",
      " 28  lwage76   3010 non-null   float32\n",
      " 29  lwage78   2639 non-null   float32\n",
      " 30  famed     3613 non-null   int8   \n",
      " 31  black     3613 non-null   int8   \n",
      " 32  smsa76r   3613 non-null   int8   \n",
      " 33  smsa78r   3319 non-null   float64\n",
      " 34  reg76r    3613 non-null   int8   \n",
      " 35  reg78r    3319 non-null   float64\n",
      " 36  reg80r    3227 non-null   float64\n",
      " 37  smsa66r   3613 non-null   int8   \n",
      " 38  wage76    3017 non-null   float64\n",
      " 39  wage78    2656 non-null   float64\n",
      " 40  wage80    2520 non-null   float64\n",
      " 41  noint78   3613 non-null   int8   \n",
      " 42  noint80   3613 non-null   int8   \n",
      " 43  enroll76  3613 non-null   int8   \n",
      " 44  enroll78  3317 non-null   float64\n",
      " 45  enroll80  3220 non-null   float64\n",
      " 46  kww       3543 non-null   float64\n",
      " 47  iq        2470 non-null   float64\n",
      " 48  marsta76  3604 non-null   float64\n",
      " 49  marsta78  3319 non-null   float64\n",
      " 50  marsta80  3227 non-null   float64\n",
      " 51  libcrd14  3598 non-null   float64\n",
      "dtypes: float32(4), float64(14), int16(1), int32(1), int8(32)\n",
      "memory usage: 613.9 KB\n"
     ]
    }
   ],
   "source": [
    "# Lecture\n",
    "import pandas as pd\n",
    "Card1995_df = pd.read_stata('/Volumes/GoogleDrive/Mon Drive/Hansen/Econometrics Data/Card1995/Card1995.dta')\n",
    "Card1995_df.info()"
   ]
  }
 ],
 "metadata": {
  "interpreter": {
   "hash": "8a894924a8054982a5c897c02f36d019274ceaf42c853aa8fb1f2ffcb169480b"
  },
  "kernelspec": {
   "display_name": "Python 3.8.8 ('base')",
   "language": "python",
   "name": "python3"
  },
  "language_info": {
   "codemirror_mode": {
    "name": "ipython",
    "version": 3
   },
   "file_extension": ".py",
   "mimetype": "text/x-python",
   "name": "python",
   "nbconvert_exporter": "python",
   "pygments_lexer": "ipython3",
   "version": "3.8.8"
  },
  "orig_nbformat": 4
 },
 "nbformat": 4,
 "nbformat_minor": 2
}
