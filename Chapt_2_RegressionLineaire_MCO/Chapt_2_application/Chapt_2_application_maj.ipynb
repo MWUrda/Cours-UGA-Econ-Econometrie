{
 "cells": [
  {
   "cell_type": "markdown",
   "metadata": {},
   "source": [
    "# <center> ÉCONOMÉTRIE</center>\n",
    "## <center> CHAPITRE 2 : </center>\n",
    "## <center> MODÈLE DE RÉGRESSION LINÉAIRE ET ESTIMATION PAR MCO</center>\n",
    "#### <center>Michal Urdanivia (UGA)</center>\n",
    "#### <center> michal.wong-urdanivia@univ-grenoble-alpes.fr </center>"
   ]
  },
  {
   "cell_type": "markdown",
   "metadata": {},
   "source": [
    "Les données à récupérer ici:\n",
    "\n",
    "https://drive.google.com/drive/folders/19g3A4qJ0GsFleQ0M8zlnmKV8k7MLDfwL?usp=sharing\n",
    "\n"
   ]
  }
 ],
 "metadata": {
  "interpreter": {
   "hash": "8a894924a8054982a5c897c02f36d019274ceaf42c853aa8fb1f2ffcb169480b"
  },
  "kernelspec": {
   "display_name": "Python 3.8.8 ('base')",
   "language": "python",
   "name": "python3"
  },
  "language_info": {
   "name": "python",
   "version": "3.8.8"
  },
  "orig_nbformat": 4
 },
 "nbformat": 4,
 "nbformat_minor": 2
}
