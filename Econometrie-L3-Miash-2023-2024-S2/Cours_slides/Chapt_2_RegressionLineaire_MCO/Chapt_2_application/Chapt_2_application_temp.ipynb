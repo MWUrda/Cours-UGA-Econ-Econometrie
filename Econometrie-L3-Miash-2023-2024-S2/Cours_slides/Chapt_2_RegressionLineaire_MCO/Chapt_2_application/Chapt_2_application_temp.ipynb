{
 "cells": [
  {
   "cell_type": "code",
   "execution_count": 1,
   "metadata": {},
   "outputs": [],
   "source": [
    "import pandas as pd\n",
    "import statsmodels.api as sm\n",
    "import numpy as np\n"
   ]
  },
  {
   "cell_type": "code",
   "execution_count": 2,
   "metadata": {},
   "outputs": [
    {
     "data": {
      "text/plain": [
       "(422133, 549)"
      ]
     },
     "execution_count": 2,
     "metadata": {},
     "output_type": "execute_result"
    }
   ],
   "source": [
    "# Lecture des données\n",
    "# Lien pour données: \n",
    "# https://drive.google.com/file/d/15WsLH_wY-tQS1YAf-msWTmsBl77qUMrt/view?usp=sharing\n",
    "eemploi2012df = pd.read_csv('/Volumes/GoogleDrive/Mon Drive/Enquete_Emploi_2012/eemploi2012.csv', low_memory=False) \n",
    "eemploi2012df.shape"
   ]
  },
  {
   "cell_type": "code",
   "execution_count": 11,
   "metadata": {},
   "outputs": [
    {
     "name": "stdout",
     "output_type": "stream",
     "text": [
      "SALRED      362039\n",
      "DDIPL         1041\n",
      "SEXE             0\n",
      "NBHEUR      376350\n",
      "AG               0\n",
      "CSER        195082\n",
      "AG5              0\n",
      "FORDAT       50232\n",
      "REG              0\n",
      "MATRI            3\n",
      "ANCENTR4    223897\n",
      "NAFG4N      217055\n",
      "dtype: int64\n",
      "(38988, 12)\n"
     ]
    }
   ],
   "source": [
    "# On supprime les observations/lignes avec valeurs manquantes\n",
    "\n",
    "df = eemploi2012df.loc[:, ['SALRED', 'DDIPL', 'SEXE', 'NBHEUR', 'AG', 'CSER', 'AG5', \n",
    "'FORDAT', 'REG', 'MATRI', 'ANCENTR4', 'NAFG4N']]\n",
    "print(pd.isna(df).sum())\n",
    "df = df.dropna()\n",
    "print(df.shape)"
   ]
  },
  {
   "cell_type": "code",
   "execution_count": 12,
   "metadata": {},
   "outputs": [
    {
     "data": {
      "text/html": [
       "<div>\n",
       "<style scoped>\n",
       "    .dataframe tbody tr th:only-of-type {\n",
       "        vertical-align: middle;\n",
       "    }\n",
       "\n",
       "    .dataframe tbody tr th {\n",
       "        vertical-align: top;\n",
       "    }\n",
       "\n",
       "    .dataframe thead th {\n",
       "        text-align: right;\n",
       "    }\n",
       "</style>\n",
       "<table border=\"1\" class=\"dataframe\">\n",
       "  <thead>\n",
       "    <tr style=\"text-align: right;\">\n",
       "      <th></th>\n",
       "      <th>SALRED</th>\n",
       "      <th>DDIPL</th>\n",
       "      <th>SEXE</th>\n",
       "      <th>NBHEUR</th>\n",
       "      <th>AG</th>\n",
       "      <th>CSER</th>\n",
       "      <th>AG5</th>\n",
       "      <th>FORDAT</th>\n",
       "      <th>REG</th>\n",
       "      <th>MATRI</th>\n",
       "      <th>...</th>\n",
       "      <th>afe</th>\n",
       "      <th>exp</th>\n",
       "      <th>DDIPL_1.0</th>\n",
       "      <th>DDIPL_3.0</th>\n",
       "      <th>DDIPL_4.0</th>\n",
       "      <th>DDIPL_5.0</th>\n",
       "      <th>DDIPL_6.0</th>\n",
       "      <th>DDIPL_7.0</th>\n",
       "      <th>SEXE_1</th>\n",
       "      <th>SEXE_2</th>\n",
       "    </tr>\n",
       "  </thead>\n",
       "  <tbody>\n",
       "    <tr>\n",
       "      <th>3</th>\n",
       "      <td>1379.0</td>\n",
       "      <td>7.0</td>\n",
       "      <td>2</td>\n",
       "      <td>151.0</td>\n",
       "      <td>36</td>\n",
       "      <td>5.0</td>\n",
       "      <td>30</td>\n",
       "      <td>1992.0</td>\n",
       "      <td>25</td>\n",
       "      <td>1.0</td>\n",
       "      <td>...</td>\n",
       "      <td>16.0</td>\n",
       "      <td>20.0</td>\n",
       "      <td>0</td>\n",
       "      <td>0</td>\n",
       "      <td>0</td>\n",
       "      <td>0</td>\n",
       "      <td>0</td>\n",
       "      <td>1</td>\n",
       "      <td>0</td>\n",
       "      <td>1</td>\n",
       "    </tr>\n",
       "    <tr>\n",
       "      <th>14</th>\n",
       "      <td>2258.0</td>\n",
       "      <td>6.0</td>\n",
       "      <td>1</td>\n",
       "      <td>140.0</td>\n",
       "      <td>53</td>\n",
       "      <td>4.0</td>\n",
       "      <td>50</td>\n",
       "      <td>1976.0</td>\n",
       "      <td>25</td>\n",
       "      <td>2.0</td>\n",
       "      <td>...</td>\n",
       "      <td>17.0</td>\n",
       "      <td>36.0</td>\n",
       "      <td>0</td>\n",
       "      <td>0</td>\n",
       "      <td>0</td>\n",
       "      <td>0</td>\n",
       "      <td>1</td>\n",
       "      <td>0</td>\n",
       "      <td>1</td>\n",
       "      <td>0</td>\n",
       "    </tr>\n",
       "    <tr>\n",
       "      <th>32</th>\n",
       "      <td>2472.0</td>\n",
       "      <td>7.0</td>\n",
       "      <td>1</td>\n",
       "      <td>151.0</td>\n",
       "      <td>45</td>\n",
       "      <td>6.0</td>\n",
       "      <td>40</td>\n",
       "      <td>1983.0</td>\n",
       "      <td>25</td>\n",
       "      <td>1.0</td>\n",
       "      <td>...</td>\n",
       "      <td>16.0</td>\n",
       "      <td>29.0</td>\n",
       "      <td>0</td>\n",
       "      <td>0</td>\n",
       "      <td>0</td>\n",
       "      <td>0</td>\n",
       "      <td>0</td>\n",
       "      <td>1</td>\n",
       "      <td>1</td>\n",
       "      <td>0</td>\n",
       "    </tr>\n",
       "    <tr>\n",
       "      <th>55</th>\n",
       "      <td>988.0</td>\n",
       "      <td>6.0</td>\n",
       "      <td>2</td>\n",
       "      <td>104.0</td>\n",
       "      <td>34</td>\n",
       "      <td>4.0</td>\n",
       "      <td>30</td>\n",
       "      <td>2000.0</td>\n",
       "      <td>31</td>\n",
       "      <td>2.0</td>\n",
       "      <td>...</td>\n",
       "      <td>22.0</td>\n",
       "      <td>12.0</td>\n",
       "      <td>0</td>\n",
       "      <td>0</td>\n",
       "      <td>0</td>\n",
       "      <td>0</td>\n",
       "      <td>1</td>\n",
       "      <td>0</td>\n",
       "      <td>0</td>\n",
       "      <td>1</td>\n",
       "    </tr>\n",
       "    <tr>\n",
       "      <th>58</th>\n",
       "      <td>1697.0</td>\n",
       "      <td>4.0</td>\n",
       "      <td>1</td>\n",
       "      <td>173.0</td>\n",
       "      <td>37</td>\n",
       "      <td>6.0</td>\n",
       "      <td>30</td>\n",
       "      <td>1995.0</td>\n",
       "      <td>31</td>\n",
       "      <td>2.0</td>\n",
       "      <td>...</td>\n",
       "      <td>20.0</td>\n",
       "      <td>17.0</td>\n",
       "      <td>0</td>\n",
       "      <td>0</td>\n",
       "      <td>1</td>\n",
       "      <td>0</td>\n",
       "      <td>0</td>\n",
       "      <td>0</td>\n",
       "      <td>1</td>\n",
       "      <td>0</td>\n",
       "    </tr>\n",
       "  </tbody>\n",
       "</table>\n",
       "<p>5 rows × 23 columns</p>\n",
       "</div>"
      ],
      "text/plain": [
       "    SALRED  DDIPL  SEXE  NBHEUR  AG  CSER  AG5  FORDAT  REG  MATRI  ...   afe  \\\n",
       "3   1379.0    7.0     2   151.0  36   5.0   30  1992.0   25    1.0  ...  16.0   \n",
       "14  2258.0    6.0     1   140.0  53   4.0   50  1976.0   25    2.0  ...  17.0   \n",
       "32  2472.0    7.0     1   151.0  45   6.0   40  1983.0   25    1.0  ...  16.0   \n",
       "55   988.0    6.0     2   104.0  34   4.0   30  2000.0   31    2.0  ...  22.0   \n",
       "58  1697.0    4.0     1   173.0  37   6.0   30  1995.0   31    2.0  ...  20.0   \n",
       "\n",
       "     exp  DDIPL_1.0  DDIPL_3.0  DDIPL_4.0  DDIPL_5.0  DDIPL_6.0  DDIPL_7.0  \\\n",
       "3   20.0          0          0          0          0          0          1   \n",
       "14  36.0          0          0          0          0          1          0   \n",
       "32  29.0          0          0          0          0          0          1   \n",
       "55  12.0          0          0          0          0          1          0   \n",
       "58  17.0          0          0          1          0          0          0   \n",
       "\n",
       "    SEXE_1  SEXE_2  \n",
       "3        0       1  \n",
       "14       1       0  \n",
       "32       1       0  \n",
       "55       0       1  \n",
       "58       1       0  \n",
       "\n",
       "[5 rows x 23 columns]"
      ]
     },
     "execution_count": 12,
     "metadata": {},
     "output_type": "execute_result"
    }
   ],
   "source": [
    "df['lsal'] = np.log(df['SALRED']/df['NBHEUR'])\n",
    "df['afe'] = df['FORDAT'] - (2012 - df['AG'])\n",
    "df['exp'] = df['AG'] - df['afe']\n",
    "dummies = pd.get_dummies(data = df[['DDIPL', 'SEXE']], columns=['DDIPL', 'SEXE'])\n",
    "df = pd.concat([df, dummies], axis = 1)\n",
    "df.head()"
   ]
  },
  {
   "cell_type": "code",
   "execution_count": 29,
   "metadata": {},
   "outputs": [],
   "source": [
    "import patsy\n",
    "formula = \"\"\"\n",
    "lsal ~ SEXE_2\n",
    "       + (C(DDIPL) + C(ANCENTR4) + C(NAFG4N) + C(REG) + C(CSER) + C(MATRI))**2 \n",
    "       + exp + I(exp**2) + I(exp**3) + I(exp**4)      \n",
    "\"\"\"\n",
    "Y, X = patsy.dmatrices(formula, df, return_type = \"dataframe\")"
   ]
  },
  {
   "cell_type": "code",
   "execution_count": 1,
   "metadata": {},
   "outputs": [
    {
     "ename": "NameError",
     "evalue": "name 'df' is not defined",
     "output_type": "error",
     "traceback": [
      "\u001b[0;31m---------------------------------------------------------------------------\u001b[0m",
      "\u001b[0;31mNameError\u001b[0m                                 Traceback (most recent call last)",
      "\u001b[0;32m<ipython-input-1-179cef4dd454>\u001b[0m in \u001b[0;36m<module>\u001b[0;34m\u001b[0m\n\u001b[1;32m      1\u001b[0m \u001b[0;32mfrom\u001b[0m \u001b[0msklearn\u001b[0m\u001b[0;34m.\u001b[0m\u001b[0mlinear_model\u001b[0m \u001b[0;32mimport\u001b[0m \u001b[0mLinearRegression\u001b[0m\u001b[0;34m\u001b[0m\u001b[0;34m\u001b[0m\u001b[0m\n\u001b[0;32m----> 2\u001b[0;31m \u001b[0mreg\u001b[0m \u001b[0;34m=\u001b[0m \u001b[0mLinearRegression\u001b[0m\u001b[0;34m(\u001b[0m\u001b[0;34m)\u001b[0m\u001b[0;34m.\u001b[0m\u001b[0mfit\u001b[0m\u001b[0;34m(\u001b[0m\u001b[0mdf\u001b[0m\u001b[0;34m[\u001b[0m\u001b[0;34m[\u001b[0m\u001b[0;34m'DDIPL_1.0'\u001b[0m\u001b[0;34m,\u001b[0m \u001b[0;34m'SEXE_2'\u001b[0m\u001b[0;34m]\u001b[0m\u001b[0;34m]\u001b[0m\u001b[0;34m,\u001b[0m \u001b[0mdf\u001b[0m\u001b[0;34m[\u001b[0m\u001b[0;34m[\u001b[0m\u001b[0;34m'lsal'\u001b[0m\u001b[0;34m,\u001b[0m \u001b[0;34m'exp'\u001b[0m\u001b[0;34m]\u001b[0m\u001b[0;34m]\u001b[0m\u001b[0;34m)\u001b[0m\u001b[0;34m\u001b[0m\u001b[0;34m\u001b[0m\u001b[0m\n\u001b[0m\u001b[1;32m      3\u001b[0m \u001b[0mreg\u001b[0m\u001b[0;34m.\u001b[0m\u001b[0mcoef_\u001b[0m\u001b[0;34m\u001b[0m\u001b[0;34m\u001b[0m\u001b[0m\n",
      "\u001b[0;31mNameError\u001b[0m: name 'df' is not defined"
     ]
    }
   ],
   "source": [
    "from sklearn.linear_model import LinearRegression\n",
    "reg = LinearRegression().fit(df[['DDIPL_1.0', 'SEXE_2']], df[['lsal', 'exp']])\n",
    "reg.coef_"
   ]
  },
  {
   "cell_type": "code",
   "execution_count": null,
   "metadata": {},
   "outputs": [],
   "source": [
    "\n",
    "linreg_ols1 = sm.OLS(endog =  df[['lsal']], exog = df[['DDIPL_1.0', 'SEXE_2']], missing = 'drop').fit(cov_type='HC0')\n",
    "print(linreg_ols1.summary())\n"
   ]
  },
  {
   "cell_type": "code",
   "execution_count": 31,
   "metadata": {},
   "outputs": [],
   "source": [
    "# Application FVL\n",
    "\n",
    "W = X.drop(columns = ['SEXE_2'])\n",
    "D = df['SEXE_2']\n",
    "Y = df['lsal']\n"
   ]
  },
  {
   "cell_type": "code",
   "execution_count": 32,
   "metadata": {},
   "outputs": [
    {
     "name": "stdout",
     "output_type": "stream",
     "text": [
      "                                 OLS Regression Results                                \n",
      "=======================================================================================\n",
      "Dep. Variable:                   lsal   R-squared (uncentered):                   0.020\n",
      "Model:                            OLS   Adj. R-squared (uncentered):              0.019\n",
      "Method:                 Least Squares   F-statistic:                              741.6\n",
      "Date:                Tue, 08 Mar 2022   Prob (F-statistic):                   8.68e-162\n",
      "Time:                        11:29:47   Log-Likelihood:                         -10580.\n",
      "No. Observations:               38988   AIC:                                  2.116e+04\n",
      "Df Residuals:                   38987   BIC:                                  2.117e+04\n",
      "Df Model:                           1                                                  \n",
      "Covariance Type:                  HC0                                                  \n",
      "==============================================================================\n",
      "                 coef    std err          z      P>|z|      [0.025      0.975]\n",
      "------------------------------------------------------------------------------\n",
      "SEXE_2        -0.1064      0.004    -27.233      0.000      -0.114      -0.099\n",
      "==============================================================================\n",
      "Omnibus:                    22764.608   Durbin-Watson:                   1.857\n",
      "Prob(Omnibus):                  0.000   Jarque-Bera (JB):          1321349.913\n",
      "Skew:                           2.072   Prob(JB):                         0.00\n",
      "Kurtosis:                      31.217   Cond. No.                         1.00\n",
      "==============================================================================\n",
      "\n",
      "Notes:\n",
      "[1] R² is computed without centering (uncentered) since the model does not contain a constant.\n",
      "[2] Standard Errors are heteroscedasticity robust (HC0)\n"
     ]
    }
   ],
   "source": [
    "# 1: \n",
    "# Opérateur FVL\n",
    "Dreg = sm.OLS(endog = D, exog = W, missing = 'drop').fit(cov_type='HC0')\n",
    "Dhat = Dreg.predict()\n",
    "Dres = D - Dhat\n",
    "Yreg = sm.OLS(endog = Y, exog = W, missing = 'drop').fit(cov_type='HC0')\n",
    "Yhat = Yreg.predict()\n",
    "Yres = Y - Yhat\n",
    "\n",
    "# 2: \n",
    "Y_partialReg = sm.OLS(endog = Yres, exog = Dres, missing = 'drop').fit(cov_type='HC0')\n",
    "print(Y_partialReg.summary())"
   ]
  }
 ],
 "metadata": {
  "interpreter": {
   "hash": "8a894924a8054982a5c897c02f36d019274ceaf42c853aa8fb1f2ffcb169480b"
  },
  "kernelspec": {
   "display_name": "Python 3.8.8 ('base')",
   "language": "python",
   "name": "python3"
  },
  "language_info": {
   "codemirror_mode": {
    "name": "ipython",
    "version": 3
   },
   "file_extension": ".py",
   "mimetype": "text/x-python",
   "name": "python",
   "nbconvert_exporter": "python",
   "pygments_lexer": "ipython3",
   "version": "3.8.8"
  },
  "orig_nbformat": 4
 },
 "nbformat": 4,
 "nbformat_minor": 2
}
