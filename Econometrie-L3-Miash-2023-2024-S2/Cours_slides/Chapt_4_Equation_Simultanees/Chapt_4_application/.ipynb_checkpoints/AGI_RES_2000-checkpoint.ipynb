{
 "cells": [
  {
   "cell_type": "code",
   "execution_count": 1,
   "metadata": {},
   "outputs": [],
   "source": [
    "import pandas as pd"
   ]
  },
  {
   "cell_type": "code",
   "execution_count": 2,
   "metadata": {},
   "outputs": [
    {
     "name": "stdout",
     "output_type": "stream",
     "text": [
      "<class 'pandas.core.frame.DataFrame'>\n",
      "Int64Index: 111 entries, 0 to 110\n",
      "Data columns (total 16 columns):\n",
      " #   Column      Non-Null Count  Dtype  \n",
      "---  ------      --------------  -----  \n",
      " 0   day1        111 non-null    int8   \n",
      " 1   day2        111 non-null    int8   \n",
      " 2   day3        111 non-null    int8   \n",
      " 3   day4        111 non-null    int8   \n",
      " 4   date        111 non-null    int32  \n",
      " 5   stormy      111 non-null    int8   \n",
      " 6   mixed       111 non-null    int8   \n",
      " 7   price       111 non-null    float32\n",
      " 8   qty         111 non-null    float32\n",
      " 9   rainy       111 non-null    int8   \n",
      " 10  cold        111 non-null    int8   \n",
      " 11  windspd     111 non-null    float32\n",
      " 12  windspd2    111 non-null    float32\n",
      " 13  pricelevel  111 non-null    float32\n",
      " 14  totr        111 non-null    int16  \n",
      " 15  tots        111 non-null    int16  \n",
      "dtypes: float32(5), int16(2), int32(1), int8(8)\n",
      "memory usage: 4.8 KB\n"
     ]
    }
   ],
   "source": [
    "agi_df = pd.read_stata(\"https://people.brandeis.edu/~kgraddy/datasets/fishdata.dta\")\n",
    "agi_df.info()"
   ]
  }
 ],
 "metadata": {
  "interpreter": {
   "hash": "8a894924a8054982a5c897c02f36d019274ceaf42c853aa8fb1f2ffcb169480b"
  },
  "kernelspec": {
   "display_name": "Python 3.8.8 ('base')",
   "language": "python",
   "name": "python3"
  },
  "language_info": {
   "codemirror_mode": {
    "name": "ipython",
    "version": 3
   },
   "file_extension": ".py",
   "mimetype": "text/x-python",
   "name": "python",
   "nbconvert_exporter": "python",
   "pygments_lexer": "ipython3",
   "version": "3.8.8"
  },
  "orig_nbformat": 4
 },
 "nbformat": 4,
 "nbformat_minor": 2
}
