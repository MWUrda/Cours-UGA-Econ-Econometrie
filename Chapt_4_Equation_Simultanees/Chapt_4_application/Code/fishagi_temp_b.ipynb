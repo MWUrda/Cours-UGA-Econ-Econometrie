{
 "cells": [
  {
   "cell_type": "code",
   "execution_count": null,
   "metadata": {},
   "outputs": [],
   "source": [
    "import pandas as pd\n",
    "import statsmodels.api as sm"
   ]
  },
  {
   "cell_type": "code",
   "execution_count": null,
   "metadata": {},
   "outputs": [],
   "source": [
    "agi_df = pd.read_stata('https://ocw.mit.edu/courses/economics/\\\n",
    "14-382-econometrics-spring-2017/assignments/homework-3/fishdata.dta')\n",
    "agi_df.info()"
   ]
  },
  {
   "cell_type": "code",
   "execution_count": null,
   "metadata": {},
   "outputs": [],
   "source": [
    "agi_df.head()"
   ]
  },
  {
   "cell_type": "code",
   "execution_count": null,
   "metadata": {},
   "outputs": [],
   "source": [
    "agi_df.describe()"
   ]
  },
  {
   "cell_type": "code",
   "execution_count": null,
   "metadata": {},
   "outputs": [],
   "source": [
    "model = sm.OLS(agi_df['qty'], \n",
    "sm.add_constant(agi_df[['stormy', 'day1', 'day2', 'day3', 'day4','rainy', 'cold']]))\n",
    "results = model.fit()\n",
    "print(results.summary())"
   ]
  },
  {
   "cell_type": "code",
   "execution_count": null,
   "metadata": {},
   "outputs": [],
   "source": [
    "model = sm.OLS(agi_df['price'],\n",
    " sm.add_constant(agi_df[['stormy', 'mixed', 'day1', 'day2', 'day3', 'day4','rainy', 'cold']]))\n",
    "results = model.fit()\n",
    "print(results.summary())"
   ]
  },
  {
   "cell_type": "code",
   "execution_count": null,
   "metadata": {},
   "outputs": [],
   "source": [
    "# 2MC équation/équation"
   ]
  },
  {
   "cell_type": "code",
   "execution_count": null,
   "metadata": {},
   "outputs": [],
   "source": [
    "from linearmodels.iv import IV2SLS\n",
    "\n",
    "res_iv = IV2SLS(agi_df['qty'],  \n",
    "sm.add_constant(agi_df[['day1', 'day2', 'day3', 'day4','rainy', 'cold']]),agi_df['price'] , agi_df['stormy']).fit(\n",
    "    cov_type=\"unadjusted\"\n",
    ")\n",
    "print(res_iv)"
   ]
  },
  {
   "cell_type": "code",
   "execution_count": null,
   "metadata": {},
   "outputs": [],
   "source": [
    "res_iv = IV2SLS(agi_df['qty'],  \n",
    "sm.add_constant(agi_df[['day1', 'day2', 'day3', 'day4','rainy', 'cold']]),agi_df['price'] , agi_df['stormy']).fit(\n",
    "    cov_type=\"unadjusted\"\n",
    ")\n",
    "print(res_iv)"
   ]
  },
  {
   "cell_type": "code",
   "execution_count": null,
   "metadata": {},
   "outputs": [],
   "source": [
    "# En système: 3MC, GMM"
   ]
  },
  {
   "cell_type": "code",
   "execution_count": null,
   "metadata": {},
   "outputs": [],
   "source": [
    "demand = {\n",
    "    'dependent': agi_big_df[['qty']],\n",
    "    'exog': agi_big_df[['const', 'day1', 'day2', 'day3', 'day4','rainy', 'cold']],\n",
    "    'endog': agi_big_df['price'],\n",
    "    'instruments': agi_big_df[['stormy', 'mixed']],\n",
    "}\n",
    "\n",
    "supply = {\n",
    "    'dependent': agi_big_df[['qty']],\n",
    "    'exog': agi_big_df[['const', 'stormy', 'mixed']],\n",
    "    'endog': agi_big_df['price'],\n",
    "    'instruments': agi_big_df[['day1', 'day2', 'day3', 'day4','rainy', 'cold']],\n",
    "}\n"
   ]
  },
  {
   "cell_type": "code",
   "execution_count": null,
   "metadata": {},
   "outputs": [],
   "source": [
    "from linearmodels import IV2SLS, IV3SLS, SUR, IVSystemGMM"
   ]
  },
  {
   "cell_type": "code",
   "execution_count": null,
   "metadata": {},
   "outputs": [],
   "source": [
    "equations = dict(demand=demand, supply=supply)\n",
    "system_3sls = IV3SLS(equations)\n",
    "system_3sls_res = system_3sls.fit(cov_type=\"unadjusted\")\n",
    "print(system_3sls_res)"
   ]
  },
  {
   "cell_type": "code",
   "execution_count": null,
   "metadata": {},
   "outputs": [],
   "source": [
    "system_gmm = IVSystemGMM(equations)\n",
    "system_gmm_res = system_gmm.fit(cov_type=\"unadjusted\")\n",
    "print(system_gmm_res)"
   ]
  }
 ],
 "metadata": {
  "interpreter": {
   "hash": "8a894924a8054982a5c897c02f36d019274ceaf42c853aa8fb1f2ffcb169480b"
  },
  "kernelspec": {
   "display_name": "Python 3.8.8 ('base')",
   "language": "python",
   "name": "python3"
  },
  "language_info": {
   "codemirror_mode": {
    "name": "ipython",
    "version": 3
   },
   "file_extension": ".py",
   "mimetype": "text/x-python",
   "name": "python",
   "nbconvert_exporter": "python",
   "pygments_lexer": "ipython3",
   "version": "3.8.8"
  },
  "orig_nbformat": 4
 },
 "nbformat": 4,
 "nbformat_minor": 2
}
