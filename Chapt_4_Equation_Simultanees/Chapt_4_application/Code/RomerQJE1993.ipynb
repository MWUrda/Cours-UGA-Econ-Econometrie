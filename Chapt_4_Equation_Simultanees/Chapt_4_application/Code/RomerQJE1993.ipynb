{
 "cells": [
  {
   "cell_type": "code",
   "execution_count": 5,
   "metadata": {},
   "outputs": [],
   "source": [
    "import pandas as pd\n",
    "import statsmodels.api as sm\n",
    "from linearmodels.iv import IV2SLS\n",
    "from linearmodels.iv import compare"
   ]
  },
  {
   "cell_type": "code",
   "execution_count": 3,
   "metadata": {},
   "outputs": [],
   "source": [
    "url = 'http://qcpages.qc.cuny.edu/~rvesselinov/statadata/OPENNESS.DTA'\n",
    "df = pd.read_stata(url)"
   ]
  },
  {
   "cell_type": "code",
   "execution_count": 4,
   "metadata": {},
   "outputs": [
    {
     "name": "stdout",
     "output_type": "stream",
     "text": [
      "<class 'pandas.core.frame.DataFrame'>\n",
      "Int64Index: 114 entries, 0 to 113\n",
      "Data columns (total 12 columns):\n",
      " #   Column   Non-Null Count  Dtype  \n",
      "---  ------   --------------  -----  \n",
      " 0   open     114 non-null    float32\n",
      " 1   inf      114 non-null    float32\n",
      " 2   pcinc    114 non-null    int16  \n",
      " 3   land     114 non-null    float32\n",
      " 4   oil      114 non-null    int8   \n",
      " 5   good     114 non-null    int8   \n",
      " 6   lpcinc   114 non-null    float32\n",
      " 7   lland    114 non-null    float32\n",
      " 8   lopen    114 non-null    float32\n",
      " 9   linf     114 non-null    float32\n",
      " 10  opendec  114 non-null    float32\n",
      " 11  linfdec  114 non-null    float32\n",
      "dtypes: float32(9), int16(1), int8(2)\n",
      "memory usage: 5.3 KB\n"
     ]
    }
   ],
   "source": [
    "df.info()"
   ]
  },
  {
   "cell_type": "code",
   "execution_count": 9,
   "metadata": {},
   "outputs": [
    {
     "name": "stdout",
     "output_type": "stream",
     "text": [
      "                            OLS Regression Results                            \n",
      "==============================================================================\n",
      "Dep. Variable:                   open   R-squared:                       0.449\n",
      "Model:                            OLS   Adj. R-squared:                  0.439\n",
      "Method:                 Least Squares   F-statistic:                     22.49\n",
      "Date:                Mon, 14 Mar 2022   Prob (F-statistic):           6.30e-09\n",
      "Time:                        13:40:33   Log-Likelihood:                -488.45\n",
      "No. Observations:                 114   AIC:                             982.9\n",
      "Df Residuals:                     111   BIC:                             991.1\n",
      "Df Model:                           2                                         \n",
      "Covariance Type:                  HC0                                         \n",
      "==============================================================================\n",
      "                 coef    std err          z      P>|z|      [0.025      0.975]\n",
      "------------------------------------------------------------------------------\n",
      "const        122.7678     13.906      8.828      0.000      95.512     150.024\n",
      "pcinc         -0.0001      0.000     -0.430      0.667      -0.001       0.000\n",
      "lland         -7.6551      1.145     -6.686      0.000      -9.899      -5.411\n",
      "==============================================================================\n",
      "Omnibus:                       55.041   Durbin-Watson:                   2.174\n",
      "Prob(Omnibus):                  0.000   Jarque-Bera (JB):              189.330\n",
      "Skew:                           1.722   Prob(JB):                     7.72e-42\n",
      "Kurtosis:                       8.291   Cond. No.                     3.21e+04\n",
      "==============================================================================\n",
      "\n",
      "Notes:\n",
      "[1] Standard Errors are heteroscedasticity robust (HC0)\n",
      "[2] The condition number is large, 3.21e+04. This might indicate that there are\n",
      "strong multicollinearity or other numerical problems.\n"
     ]
    }
   ],
   "source": [
    "# Estimation par MCO de la forme réduite(équation de \"open\")\n",
    "\n",
    "open_mco = sm.OLS(df['open'], sm.add_constant(df[['pcinc', 'lland']]))\n",
    "open_res = open_mco.fit(cov_type='HC0')\n",
    "print(open_res.summary()) "
   ]
  },
  {
   "cell_type": "code",
   "execution_count": 8,
   "metadata": {},
   "outputs": [],
   "source": [
    "# 2MC\n",
    "\n",
    "model_2mc = IV2SLS(df['inf'], sm.add_constant(df['pcinc']), df['open'], df['lland'])\n",
    "res_2mc = model_2mc.fit(cov_type=\"robust\")\n",
    "print(model_2mc)"
   ]
  },
  {
   "cell_type": "code",
   "execution_count": 10,
   "metadata": {},
   "outputs": [],
   "source": [
    "# Comparaison MCO.\n",
    "\n",
    "model_mco = sm.OLS(df['inf'], sm.add_constant(df[['pcinc', 'lland']]))\n",
    "res_mco = model_mco.fit(cov_type='HC0')\n",
    "print(res_mco.summary())\n"
   ]
  }
 ],
 "metadata": {
  "interpreter": {
   "hash": "8a894924a8054982a5c897c02f36d019274ceaf42c853aa8fb1f2ffcb169480b"
  },
  "kernelspec": {
   "display_name": "Python 3",
   "language": "python",
   "name": "python3"
  },
  "language_info": {
   "codemirror_mode": {
    "name": "ipython",
    "version": 3
   },
   "file_extension": ".py",
   "mimetype": "text/x-python",
   "name": "python",
   "nbconvert_exporter": "python",
   "pygments_lexer": "ipython3",
   "version": "3.8.8"
  }
 },
 "nbformat": 4,
 "nbformat_minor": 4
}
