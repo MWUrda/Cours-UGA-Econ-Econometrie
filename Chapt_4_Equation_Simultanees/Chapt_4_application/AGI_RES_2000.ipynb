{
 "cells": [
  {
   "cell_type": "code",
   "execution_count": 1,
   "metadata": {},
   "outputs": [],
   "source": [
    "import pandas as pd\n",
    "import statsmodels.api as sm\n",
    "from linearmodels.iv import IV2SLS"
   ]
  },
  {
   "cell_type": "code",
   "execution_count": 2,
   "metadata": {},
   "outputs": [
    {
     "name": "stdout",
     "output_type": "stream",
     "text": [
      "<class 'pandas.core.frame.DataFrame'>\n",
      "Int64Index: 111 entries, 0 to 110\n",
      "Data columns (total 16 columns):\n",
      " #   Column      Non-Null Count  Dtype  \n",
      "---  ------      --------------  -----  \n",
      " 0   day1        111 non-null    int8   \n",
      " 1   day2        111 non-null    int8   \n",
      " 2   day3        111 non-null    int8   \n",
      " 3   day4        111 non-null    int8   \n",
      " 4   date        111 non-null    int32  \n",
      " 5   stormy      111 non-null    int8   \n",
      " 6   mixed       111 non-null    int8   \n",
      " 7   price       111 non-null    float32\n",
      " 8   qty         111 non-null    float32\n",
      " 9   rainy       111 non-null    int8   \n",
      " 10  cold        111 non-null    int8   \n",
      " 11  windspd     111 non-null    float32\n",
      " 12  windspd2    111 non-null    float32\n",
      " 13  pricelevel  111 non-null    float32\n",
      " 14  totr        111 non-null    int16  \n",
      " 15  tots        111 non-null    int16  \n",
      "dtypes: float32(5), int16(2), int32(1), int8(8)\n",
      "memory usage: 4.8 KB\n"
     ]
    }
   ],
   "source": [
    "agi_df = pd.read_stata(\"https://people.brandeis.edu/~kgraddy/datasets/fishdata.dta\")\n",
    "agi_df.info()"
   ]
  },
  {
   "cell_type": "code",
   "execution_count": 3,
   "metadata": {},
   "outputs": [
    {
     "name": "stdout",
     "output_type": "stream",
     "text": [
      "                            OLS Regression Results                            \n",
      "==============================================================================\n",
      "Dep. Variable:                    qty   R-squared:                       0.223\n",
      "Model:                            OLS   Adj. R-squared:                  0.170\n",
      "Method:                 Least Squares   F-statistic:                     7.988\n",
      "Date:                Mon, 14 Mar 2022   Prob (F-statistic):           9.99e-08\n",
      "Time:                        14:44:47   Log-Likelihood:                -109.83\n",
      "No. Observations:                 111   AIC:                             235.7\n",
      "Df Residuals:                     103   BIC:                             257.3\n",
      "Df Model:                           7                                         \n",
      "Covariance Type:                  HC0                                         \n",
      "==============================================================================\n",
      "                 coef    std err          z      P>|z|      [0.025      0.975]\n",
      "------------------------------------------------------------------------------\n",
      "const          8.6169      0.125     68.951      0.000       8.372       8.862\n",
      "price         -0.5446      0.154     -3.533      0.000      -0.847      -0.242\n",
      "rainy          0.0666      0.146      0.455      0.649      -0.220       0.354\n",
      "cold          -0.0616      0.134     -0.460      0.645      -0.324       0.201\n",
      "day1           0.0316      0.198      0.160      0.873      -0.356       0.419\n",
      "day2          -0.4935      0.190     -2.592      0.010      -0.867      -0.120\n",
      "day3          -0.5392      0.195     -2.770      0.006      -0.921      -0.158\n",
      "day4           0.0948      0.156      0.606      0.545      -0.212       0.401\n",
      "==============================================================================\n",
      "Omnibus:                       13.824   Durbin-Watson:                   1.491\n",
      "Prob(Omnibus):                  0.001   Jarque-Bera (JB):               15.126\n",
      "Skew:                          -0.790   Prob(JB):                     0.000519\n",
      "Kurtosis:                       3.880   Cond. No.                         6.74\n",
      "==============================================================================\n",
      "\n",
      "Notes:\n",
      "[1] Standard Errors are heteroscedasticity robust (HC0)\n",
      "                            OLS Regression Results                            \n",
      "==============================================================================\n",
      "Dep. Variable:                    qty   R-squared:                       0.096\n",
      "Model:                            OLS   Adj. R-squared:                  0.070\n",
      "Method:                 Least Squares   F-statistic:                     4.552\n",
      "Date:                Mon, 14 Mar 2022   Prob (F-statistic):            0.00483\n",
      "Time:                        14:44:47   Log-Likelihood:                -118.25\n",
      "No. Observations:                 111   AIC:                             244.5\n",
      "Df Residuals:                     107   BIC:                             255.3\n",
      "Df Model:                           3                                         \n",
      "Covariance Type:                  HC0                                         \n",
      "==============================================================================\n",
      "                 coef    std err          z      P>|z|      [0.025      0.975]\n",
      "------------------------------------------------------------------------------\n",
      "const          8.5570      0.124     68.775      0.000       8.313       8.801\n",
      "price         -0.4021      0.182     -2.214      0.027      -0.758      -0.046\n",
      "stormy        -0.2738      0.183     -1.493      0.136      -0.633       0.086\n",
      "mixed         -0.1062      0.165     -0.644      0.519      -0.429       0.217\n",
      "==============================================================================\n",
      "Omnibus:                       12.985   Durbin-Watson:                   1.565\n",
      "Prob(Omnibus):                  0.002   Jarque-Bera (JB):               13.771\n",
      "Skew:                          -0.809   Prob(JB):                      0.00102\n",
      "Kurtosis:                       3.599   Cond. No.                         4.58\n",
      "==============================================================================\n",
      "\n",
      "Notes:\n",
      "[1] Standard Errors are heteroscedasticity robust (HC0)\n"
     ]
    }
   ],
   "source": [
    "# Estimation par MCO des équations d'offre et demande\n",
    "\n",
    "demande_mco = sm.OLS(agi_df['qty'], sm.add_constant(agi_df[['price', 'rainy', 'cold', 'day1', 'day2', 'day3', 'day4']]))\n",
    "res_demande_mco = demande_mco.fit(cov_type='HC0')\n",
    "print(res_demande_mco.summary())\n",
    "\n",
    "offre_mco = sm.OLS(agi_df['qty'], sm.add_constant(agi_df[['price', 'stormy', 'mixed']]))\n",
    "res_offre_mco = offre_mco.fit(cov_type='HC0')\n",
    "print(res_offre_mco.summary()) "
   ]
  },
  {
   "cell_type": "code",
   "execution_count": null,
   "metadata": {},
   "outputs": [],
   "source": []
  }
 ],
 "metadata": {
  "interpreter": {
   "hash": "8a894924a8054982a5c897c02f36d019274ceaf42c853aa8fb1f2ffcb169480b"
  },
  "kernelspec": {
   "display_name": "Python 3",
   "language": "python",
   "name": "python3"
  },
  "language_info": {
   "codemirror_mode": {
    "name": "ipython",
    "version": 3
   },
   "file_extension": ".py",
   "mimetype": "text/x-python",
   "name": "python",
   "nbconvert_exporter": "python",
   "pygments_lexer": "ipython3",
   "version": "3.8.8"
  }
 },
 "nbformat": 4,
 "nbformat_minor": 4
}
