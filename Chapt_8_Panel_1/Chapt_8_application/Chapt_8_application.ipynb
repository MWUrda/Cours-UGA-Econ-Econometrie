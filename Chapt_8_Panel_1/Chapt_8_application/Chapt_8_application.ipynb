{
 "cells": [
  {
   "cell_type": "markdown",
   "metadata": {},
   "source": [
    "# <center> EXEMPLE DE CODE POUR APPLICATION SUR DONNÉES DE PANEL </center>"
   ]
  },
  {
   "cell_type": "code",
   "execution_count": 1,
   "metadata": {},
   "outputs": [],
   "source": [
    "import pandas as pd \n",
    "from linearmodels.panel import PooledOLS\n",
    "from linearmodels.panel import PanelOLS\n",
    "import numpy as np\n",
    "import statsmodels.api as sm"
   ]
  },
  {
   "cell_type": "code",
   "execution_count": 3,
   "metadata": {},
   "outputs": [
    {
     "name": "stdout",
     "output_type": "stream",
     "text": [
      "<class 'pandas.core.frame.DataFrame'>\n",
      "Int64Index: 1173 entries, 0 to 1172\n",
      "Data columns (total 13 columns):\n",
      " #   Column       Non-Null Count  Dtype  \n",
      "---  ------       --------------  -----  \n",
      " 0   year         1173 non-null   int8   \n",
      " 1   vio          1173 non-null   float32\n",
      " 2   mur          1173 non-null   float32\n",
      " 3   rob          1173 non-null   float32\n",
      " 4   incarc_rate  1173 non-null   int16  \n",
      " 5   pb1064       1173 non-null   float32\n",
      " 6   pw1064       1173 non-null   float32\n",
      " 7   pm1029       1173 non-null   float32\n",
      " 8   pop          1173 non-null   float32\n",
      " 9   avginc       1173 non-null   float32\n",
      " 10  density      1173 non-null   float32\n",
      " 11  stateid      1173 non-null   int8   \n",
      " 12  shall        1173 non-null   int8   \n",
      "dtypes: float32(9), int16(1), int8(3)\n",
      "memory usage: 56.1 KB\n"
     ]
    }
   ],
   "source": [
    "df_guns = pd.read_stata(\"/Users/michalurdanivia/Library/CloudStorage/GoogleDrive-mw.urdanivia@gmail.com/Mon Drive/Guns/Guns.dta\")\n",
    "df_guns.info()"
   ]
  },
  {
   "cell_type": "code",
   "execution_count": 4,
   "metadata": {},
   "outputs": [],
   "source": [
    "year = pd.Categorical(df_guns.year)\n",
    "df_guns = df_guns.set_index(['stateid', 'year'])\n",
    "df_guns['year'] = year\n",
    "df_guns['lvio'] = np.log(df_guns.vio)\n"
   ]
  },
  {
   "cell_type": "code",
   "execution_count": 5,
   "metadata": {},
   "outputs": [
    {
     "name": "stdout",
     "output_type": "stream",
     "text": [
      "                     vio   mur         rob  incarc_rate    pb1064     pw1064  \\\n",
      "stateid year                                                                   \n",
      "1       77    414.399994  14.2   96.800003           83  8.384873  55.122906   \n",
      "        78    419.100006  13.3   99.099998           94  8.352101  55.143665   \n",
      "        79    413.299988  13.2  109.500000          144  8.329575  55.135857   \n",
      "        80    448.500000  13.2  132.100006          141  8.408386  54.912586   \n",
      "        81    470.500000  11.9  126.500000          149  8.483435  54.925125   \n",
      "\n",
      "                 pm1029       pop    avginc   density  shall year      lvio  \n",
      "stateid year                                                                 \n",
      "1       77    18.174412  3.780403  9.563148  0.074552      0   77  6.026832  \n",
      "        78    17.994080  3.831838  9.932000  0.075567      0   78  6.038110  \n",
      "        79    17.839336  3.866248  9.877028  0.076245      0   79  6.024174  \n",
      "        80    17.734198  3.900368  9.541428  0.076829      0   80  6.105909  \n",
      "        81    17.673716  3.918531  9.548351  0.077187      0   81  6.153796  \n"
     ]
    }
   ],
   "source": [
    "print(df_guns.head())"
   ]
  },
  {
   "cell_type": "code",
   "execution_count": 7,
   "metadata": {},
   "outputs": [
    {
     "name": "stdout",
     "output_type": "stream",
     "text": [
      "                          PooledOLS Estimation Summary                          \n",
      "================================================================================\n",
      "Dep. Variable:                   lvio   R-squared:                        0.5643\n",
      "Estimator:                  PooledOLS   R-squared (Between):              0.6501\n",
      "No. Observations:                1173   R-squared (Within):              -0.4897\n",
      "Date:                Wed, Mar 20 2024   R-squared (Overall):              0.5643\n",
      "Time:                        11:27:21   Log-likelihood                   -663.61\n",
      "Cov. Estimator:            Unadjusted                                           \n",
      "                                        F-statistic:                      188.41\n",
      "Entities:                          51   P-value                           0.0000\n",
      "Avg Obs:                       23.000   Distribution:                  F(8,1164)\n",
      "Min Obs:                       23.000                                           \n",
      "Max Obs:                       23.000   F-statistic (robust):             188.41\n",
      "                                        P-value                           0.0000\n",
      "Time periods:                      23   Distribution:                  F(8,1164)\n",
      "Avg Obs:                       51.000                                           \n",
      "Min Obs:                       51.000                                           \n",
      "Max Obs:                       51.000                                           \n",
      "                                                                                \n",
      "                              Parameter Estimates                              \n",
      "===============================================================================\n",
      "             Parameter  Std. Err.     T-stat    P-value    Lower CI    Upper CI\n",
      "-------------------------------------------------------------------------------\n",
      "const           2.9817     0.5434     5.4873     0.0000      1.9156      4.0479\n",
      "shall          -0.3684     0.0326    -11.312     0.0000     -0.4323     -0.3045\n",
      "incarc_rate     0.0016     0.0001     15.050     0.0000      0.0014      0.0018\n",
      "density         0.0267     0.0132     2.0268     0.0429      0.0009      0.0525\n",
      "avginc          0.0012     0.0078     0.1549     0.8769     -0.0141      0.0165\n",
      "pop             0.0427     0.0026     16.691     0.0000      0.0377      0.0477\n",
      "pb1064          0.0809     0.0167     4.8556     0.0000      0.0482      0.1135\n",
      "pw1064          0.0312     0.0084     3.7243     0.0002      0.0148      0.0476\n",
      "pm1029          0.0089     0.0108     0.8234     0.4105     -0.0123      0.0300\n",
      "===============================================================================\n"
     ]
    }
   ],
   "source": [
    "exog_vars = ['shall', 'incarc_rate', 'density', 'avginc', 'pop', 'pb1064', 'pw1064', 'pm1029']\n",
    "exog = sm.add_constant(df_guns[exog_vars])\n",
    "mod = PooledOLS(df_guns.lvio, exog)\n",
    "pooled_res = mod.fit()\n",
    "print(pooled_res)"
   ]
  },
  {
   "cell_type": "code",
   "execution_count": 6,
   "metadata": {},
   "outputs": [
    {
     "name": "stdout",
     "output_type": "stream",
     "text": [
      "                          PanelOLS Estimation Summary                           \n",
      "================================================================================\n",
      "Dep. Variable:                   lvio   R-squared:                        0.2178\n",
      "Estimator:                   PanelOLS   R-squared (Between):             -0.1777\n",
      "No. Observations:                1173   R-squared (Within):               0.2178\n",
      "Date:                Wed, Mar 20 2024   R-squared (Overall):             -0.1480\n",
      "Time:                        10:53:33   Log-likelihood                    510.18\n",
      "Cov. Estimator:            Unadjusted                                           \n",
      "                                        F-statistic:                      38.772\n",
      "Entities:                          51   P-value                           0.0000\n",
      "Avg Obs:                       23.000   Distribution:                  F(8,1114)\n",
      "Min Obs:                       23.000                                           \n",
      "Max Obs:                       23.000   F-statistic (robust):             38.772\n",
      "                                        P-value                           0.0000\n",
      "Time periods:                      23   Distribution:                  F(8,1114)\n",
      "Avg Obs:                       51.000                                           \n",
      "Min Obs:                       51.000                                           \n",
      "Max Obs:                       51.000                                           \n",
      "                                                                                \n",
      "                              Parameter Estimates                              \n",
      "===============================================================================\n",
      "             Parameter  Std. Err.     T-stat    P-value    Lower CI    Upper CI\n",
      "-------------------------------------------------------------------------------\n",
      "const           3.8660     0.3848     10.048     0.0000      3.1111      4.6210\n",
      "shall          -0.0461     0.0189    -2.4456     0.0146     -0.0832     -0.0091\n",
      "incarc_rate -7.101e-05   9.36e-05    -0.7586     0.4482     -0.0003      0.0001\n",
      "density        -0.1723     0.0850    -2.0261     0.0430     -0.3391     -0.0054\n",
      "avginc         -0.0092     0.0059    -1.5578     0.1196     -0.0208      0.0024\n",
      "pop             0.0115     0.0087     1.3210     0.1868     -0.0056      0.0286\n",
      "pb1064          0.1043     0.0178     5.8728     0.0000      0.0694      0.1391\n",
      "pw1064          0.0409     0.0051     8.0522     0.0000      0.0309      0.0508\n",
      "pm1029         -0.0503     0.0064    -7.8505     0.0000     -0.0628     -0.0377\n",
      "===============================================================================\n",
      "\n",
      "F-test for Poolability: 142.57\n",
      "P-value: 0.0000\n",
      "Distribution: F(50,1114)\n",
      "\n",
      "Included effects: Entity\n"
     ]
    }
   ],
   "source": [
    "exog_vars = ['shall', 'incarc_rate', 'density', 'avginc', 'pop', 'pb1064', 'pw1064', 'pm1029']\n",
    "exog = sm.add_constant(df_guns[exog_vars])\n",
    "mod = PanelOLS(df_guns.lvio, exog, entity_effects=True)\n",
    "fe_res = mod.fit()\n",
    "print(fe_res)"
   ]
  }
 ],
 "metadata": {
  "interpreter": {
   "hash": "8a894924a8054982a5c897c02f36d019274ceaf42c853aa8fb1f2ffcb169480b"
  },
  "kernelspec": {
   "display_name": "Python 3.8.8 ('base')",
   "language": "python",
   "name": "python3"
  },
  "language_info": {
   "codemirror_mode": {
    "name": "ipython",
    "version": 3
   },
   "file_extension": ".py",
   "mimetype": "text/x-python",
   "name": "python",
   "nbconvert_exporter": "python",
   "pygments_lexer": "ipython3",
   "version": "3.10.9"
  },
  "orig_nbformat": 4
 },
 "nbformat": 4,
 "nbformat_minor": 2
}
